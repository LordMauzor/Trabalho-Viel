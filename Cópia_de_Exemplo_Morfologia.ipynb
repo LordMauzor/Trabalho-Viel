{
  "nbformat": 4,
  "nbformat_minor": 0,
  "metadata": {
    "colab": {
      "provenance": [],
      "include_colab_link": true
    },
    "kernelspec": {
      "name": "python3",
      "display_name": "Python 3"
    },
    "language_info": {
      "name": "python"
    }
  },
  "cells": [
    {
      "cell_type": "markdown",
      "metadata": {
        "id": "view-in-github",
        "colab_type": "text"
      },
      "source": [
        "<a href=\"https://colab.research.google.com/github/LordMauzor/Trabalho-Viel/blob/main/C%C3%B3pia_de_Exemplo_Morfologia.ipynb\" target=\"_parent\"><img src=\"https://colab.research.google.com/assets/colab-badge.svg\" alt=\"Open In Colab\"/></a>"
      ]
    },
    {
      "cell_type": "markdown",
      "source": [
        "Universidade do Vale do Itajaí<br>\n",
        "Escola do Mar, Ciência e Tecnologia<br>\n",
        "Professor Felipe Viel\n",
        "\n",
        "# Exemplo Morfologia\n",
        "\n",
        "### Tutoriais da OpenCV\n",
        "\n",
        "- https://docs.opencv.org/master/d9/df8/tutorial_root.html\n",
        "- https://www.geeksforgeeks.org/opencv-python-tutorial/"
      ],
      "metadata": {
        "id": "hs7F3RjrUjCH"
      }
    },
    {
      "cell_type": "code",
      "execution_count": null,
      "metadata": {
        "id": "9ieiSWN_Uh5b"
      },
      "outputs": [],
      "source": [
        "#from https://opencv-python-tutroals.readthedocs.io/en/latest/py_tutorials/py_imgproc/py_morphological_ops/py_morphological_ops.html\n",
        "import cv2 # importa a biblioteca \"cv2\"\n",
        "import numpy as np # importa a biblioteca \"numpy\" com o apelido np (apelido faz com que você não precise usar o nome numpy todas as vezes que usar a biblioteca)\n",
        "#caso for usar o Google Colab com a OpenCV, usar a lib abaixo\n",
        "from google.colab.patches import cv2_imshow # importa \"cv2_imshow\" da pasta ou arquivo  \"google.colab.patches\"\n"
      ]
    },
    {
      "cell_type": "code",
      "source": [
        "img = cv2.imread('j.png',0) # cria a variável chamada \"img\" e diz que ela é a imagem \"j.png\" usando o comando cv2.imread\n",
        "img_opening = cv2.imread('j_ruido.png',0) # cria a variável chamada \"img_opening\" e diz que ela é a imagem \"j_ruido.png\" usando o comando cv2.imread\n",
        "img_closing = cv2.imread('j_furos.png',0) # cria a variável chamada \"img_closing\" e diz que ela é a imagem \"j_furos.png\" usando o comando cv2.imread\n",
        "altura, largura = img.shape # cria as variáveis chamadas \"altura\" e \"largura\" e diz que elas são a altura e largura respectivamente da variável \"img\" usando o img.shape para pegar os valores de colunas e linhas\n",
        "kernel = np.ones((5,5),np.uint8) # cria a variável \"kernel\" e faz ela ser meio que uma matriz 5x5 (não confirmo spbre ser tipo uma matriz mas isso foi o mais próximo do que eu consegui entender) com todos os seus elementos sendo \"1\"\n",
        "print(kernel) # mostra a variável \"kernel\""
      ],
      "metadata": {
        "id": "8whvZbKhU03S"
      },
      "execution_count": null,
      "outputs": []
    },
    {
      "cell_type": "code",
      "source": [
        "erosion = cv2.erode(img,kernel,iterations = 2) # cria a variável chamada \"erosion\" e faz a erosão da imagem \"img\" usando o \"kernel\" e isso resulta em apenas continua branco se todos os pixels em cima do kernel forem \"1\"s\n",
        "dilation = cv2.dilate(img,kernel,iterations = 2) # cria a variável chamada \"dilation\" e  faz o oposto da erosão pois se algum pixel for igual a 1 todos do kernel serão \"1\"s também"
      ],
      "metadata": {
        "id": "RnKcRcjsU8VP"
      },
      "execution_count": null,
      "outputs": []
    },
    {
      "cell_type": "code",
      "source": [
        "gradient = cv2.morphologyEx(img, cv2.MORPH_GRADIENT, kernel) # cria a variável chamada \"gradient\" e  faz a diferença da dilatação e da erosão fazendo assim ficar apenas a borda da imagem\n",
        "opening = cv2.morphologyEx(img_opening, cv2.MORPH_OPEN, kernel) # cria a variável chamada \"opening\" e  faz a erosão ser seguida da dilatação o que reduz o ruído externo\n",
        "closing = cv2.morphologyEx(img_closing, cv2.MORPH_CLOSE, kernel) # cria a variável chamada \"closing\" e  faz a dilatação seguida da erosão o que reduz o ruído interno"
      ],
      "metadata": {
        "id": "WvTtlQWJU-tz"
      },
      "execution_count": null,
      "outputs": []
    },
    {
      "cell_type": "code",
      "source": [
        "'''\n",
        "#Caso usa com Python no próprio computador\n",
        "cv2.imshow('in', img)\n",
        "cv2.imshow('erosion_out', erosion)\n",
        "cv2.imshow('dilation_out', dilation)\n",
        "cv2.imshow('opening_out', opening)\n",
        "cv2.imshow('closing_out', closing)\n",
        "cv2.imshow('gradient_out', gradient)\n",
        "'''\n",
        "#Caso use o Google Colab\n",
        "cv2_imshow(img) # mostra a imagem \"img\"\n",
        "cv2_imshow(erosion) # mostra a imagem \"erosion\"\n",
        "cv2_imshow(dilation) # mostra a imagem \"dilation\"\n",
        "cv2_imshow(opening) # mostra a imagem \"opening\"\n",
        "cv2_imshow(closing) # mostra a imagem \"closing\"\n",
        "cv2_imshow(gradient) # mostra a imagem \"gradient\""
      ],
      "metadata": {
        "id": "iMJ7o6EgVA_r"
      },
      "execution_count": null,
      "outputs": []
    }
  ]
}